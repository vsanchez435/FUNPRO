{
  "nbformat": 4,
  "nbformat_minor": 0,
  "metadata": {
    "colab": {
      "provenance": []
    },
    "kernelspec": {
      "name": "python3",
      "display_name": "Python 3"
    },
    "language_info": {
      "name": "python"
    }
  },
  "cells": [
    {
      "cell_type": "code",
      "execution_count": 4,
      "metadata": {
        "colab": {
          "base_uri": "https://localhost:8080/"
        },
        "id": "AA20yZIWR4jJ",
        "outputId": "bf3fdea8-c71e-4333-fcc7-f3a5bcb14a17"
      },
      "outputs": [
        {
          "name": "stdout",
          "output_type": "stream",
          "text": [
            "si\n"
          ]
        }
      ],
      "source": [
        " #Ejemplo1: AI para gasolina\n",
        " respuesta=\"\" #Declaramos una variable como caracter\n",
        " #Para imprimir, usamos el comando print\n",
        " print(\"Detecto poca gasolina en el tanque\")\n",
        " print(\"Desea ir a la gasolinera mas cercana\")\n",
        " #funcion input para leer repuestas\n",
        " respuesta= input()"
      ]
    },
    {
      "cell_type": "code",
      "source": [
        "respuesta=input(\"Detecto poca gasolina en el tanque\")"
      ],
      "metadata": {
        "colab": {
          "base_uri": "https://localhost:8080/"
        },
        "id": "IBxoq2BJbI47",
        "outputId": "0a368519-dd5d-4e80-e134-ca0dd4577771"
      },
      "execution_count": 5,
      "outputs": [
        {
          "name": "stdout",
          "output_type": "stream",
          "text": [
            "Detecto poca gasolina en el tanquesi\n"
          ]
        }
      ]
    },
    {
      "cell_type": "code",
      "source": [
        "if respuesta==\"si\":\n",
        "  print(\"Ir a la gaolinera más cercana\")\n",
        "else:\n",
        "  print(\"seguimos derecho\")"
      ],
      "metadata": {
        "colab": {
          "base_uri": "https://localhost:8080/"
        },
        "id": "YrdSLbQOdy-g",
        "outputId": "99547cfe-df7a-420c-d078-0513b6374fd4"
      },
      "execution_count": 6,
      "outputs": [
        {
          "output_type": "stream",
          "name": "stdout",
          "text": [
            "Ir a la gaolinera más cercana\n"
          ]
        }
      ]
    },
    {
      "cell_type": "code",
      "source": [
        "#Vamos a mejorar el ejercicio\n",
        "import random #importando la linea random\n",
        "gasolina=random.randint(1,100)\n",
        "gasolina"
      ],
      "metadata": {
        "id": "LbSY1pR0hCwH"
      },
      "execution_count": null,
      "outputs": []
    },
    {
      "cell_type": "code",
      "source": [
        "if gasolina =10\n",
        "respuesta=input(\"Detecto poca gasolina en el tanque\")"
      ],
      "metadata": {
        "id": "ceVWm9wdhtdu"
      },
      "execution_count": null,
      "outputs": []
    }
  ]
}